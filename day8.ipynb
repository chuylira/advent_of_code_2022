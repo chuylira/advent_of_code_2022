{
 "cells": [
  {
   "cell_type": "code",
   "execution_count": 50,
   "metadata": {},
   "outputs": [],
   "source": [
    "f=open('input.txt','r')\n",
    "a=f.read().split('\\n')\n",
    "matrix=[]\n",
    "for line in a:\n",
    "    matrix.append(list(line))\n",
    "matrix=matrix[:-1]"
   ]
  },
  {
   "cell_type": "code",
   "execution_count": 51,
   "metadata": {},
   "outputs": [],
   "source": [
    "min_limit=0\n",
    "max_limit=98\n",
    "limits=[min_limit,max_limit]"
   ]
  },
  {
   "cell_type": "code",
   "execution_count": 53,
   "metadata": {},
   "outputs": [
    {
     "data": {
      "text/plain": [
       "1785"
      ]
     },
     "execution_count": 53,
     "metadata": {},
     "output_type": "execute_result"
    }
   ],
   "source": [
    "visible=0\n",
    "for i in range(0,99):\n",
    "    for j in range(0,99):\n",
    "        if (i in limits)|(j in limits):\n",
    "            visible+=1\n",
    "        else:\n",
    "            tree_height=matrix[i][j]\n",
    "            #check to the top\n",
    "            top_vis=True\n",
    "            for m in range(0,i):\n",
    "                check_height=matrix[m][j]\n",
    "                if check_height>=tree_height:\n",
    "                    top_vis=False\n",
    "                    break\n",
    "            \n",
    "            #check to the right\n",
    "            right_vis=True\n",
    "            for m in range(j+1,99):\n",
    "                check_height=matrix[i][m]\n",
    "                if check_height>=tree_height:\n",
    "                    right_vis=False\n",
    "                    break\n",
    "            \n",
    "            #check to the left\n",
    "            left_vis=True\n",
    "            for m in range(0,j):\n",
    "                check_height=matrix[i][m]\n",
    "                if check_height>=tree_height:\n",
    "                    left_vis=False\n",
    "                    break\n",
    "            \n",
    "            #check to the bottom\n",
    "            bottom_vis=True\n",
    "            for m in range(i+1,99):\n",
    "                check_height=matrix[m][j]\n",
    "                if check_height>=tree_height:\n",
    "                    bottom_vis=False\n",
    "                    break\n",
    "            \n",
    "            if top_vis|right_vis|left_vis|bottom_vis:\n",
    "                visible+=1\n",
    "            \n",
    "visible\n"
   ]
  },
  {
   "cell_type": "code",
   "execution_count": 55,
   "metadata": {},
   "outputs": [
    {
     "name": "stdout",
     "output_type": "stream",
     "text": [
      "4\n",
      "3\n",
      "2\n",
      "1\n",
      "0\n"
     ]
    }
   ],
   "source": [
    "for i in reversed(range(0,5)):\n",
    "    print(i)"
   ]
  },
  {
   "cell_type": "code",
   "execution_count": 67,
   "metadata": {},
   "outputs": [],
   "source": [
    "scores=[]\n",
    "for i in range(0,99):\n",
    "    for j in range(0,99):\n",
    "        if (i in limits)|(j in limits):\n",
    "            continue\n",
    "        else:\n",
    "            tree_height=matrix[i][j]\n",
    "            #check to the top\n",
    "            score_top=0\n",
    "            for m in reversed(range(0,i)):\n",
    "                check_height=matrix[m][j]\n",
    "                score_top+=1\n",
    "                if check_height>=tree_height:\n",
    "                    break\n",
    "\n",
    "            #check to the right\n",
    "            score_right=0\n",
    "            for m in range(j+1,99):\n",
    "                check_height=matrix[i][m]\n",
    "                score_right+=1\n",
    "                if check_height>=tree_height:\n",
    "                    break\n",
    "            \n",
    "            #check to the left\n",
    "            score_left=0\n",
    "            for m in reversed(range(0,j)):\n",
    "                check_height=matrix[i][m]\n",
    "                score_left+=1\n",
    "                if check_height>=tree_height:\n",
    "                    break\n",
    "            \n",
    "            #check to the bottom\n",
    "            score_bottom=0\n",
    "            for m in range(i+1,99):\n",
    "                check_height=matrix[m][j]\n",
    "                score_bottom+=1\n",
    "                if check_height>=tree_height:\n",
    "                    break\n",
    "            \n",
    "            score=score_top*score_right*score_left*score_bottom\n",
    "            if score==0:\n",
    "                print(i,j,'error')\n",
    "            \n",
    "            scores.append(score)\n",
    "            "
   ]
  },
  {
   "cell_type": "code",
   "execution_count": 68,
   "metadata": {},
   "outputs": [
    {
     "data": {
      "text/plain": [
       "345168"
      ]
     },
     "execution_count": 68,
     "metadata": {},
     "output_type": "execute_result"
    }
   ],
   "source": [
    "max(scores)"
   ]
  }
 ],
 "metadata": {
  "kernelspec": {
   "display_name": "Python 3.9.7 ('base')",
   "language": "python",
   "name": "python3"
  },
  "language_info": {
   "codemirror_mode": {
    "name": "ipython",
    "version": 3
   },
   "file_extension": ".py",
   "mimetype": "text/x-python",
   "name": "python",
   "nbconvert_exporter": "python",
   "pygments_lexer": "ipython3",
   "version": "3.9.7"
  },
  "orig_nbformat": 4,
  "vscode": {
   "interpreter": {
    "hash": "40d3a090f54c6569ab1632332b64b2c03c39dcf918b08424e98f38b5ae0af88f"
   }
  }
 },
 "nbformat": 4,
 "nbformat_minor": 2
}

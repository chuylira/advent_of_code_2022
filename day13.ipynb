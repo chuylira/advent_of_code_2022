{
 "cells": [
  {
   "cell_type": "code",
   "execution_count": 54,
   "metadata": {},
   "outputs": [
    {
     "name": "stdout",
     "output_type": "stream",
     "text": [
      "6272\n"
     ]
    }
   ],
   "source": [
    "import ast\n",
    "\n",
    "def comparison(left_elem,right_elem):\n",
    "    check='tie'\n",
    "    if (isinstance(left_elem, list))&(isinstance(right_elem, list)):\n",
    "        for i in range(0,max([len(left_elem),len(right_elem)])):\n",
    "            \n",
    "            try:\n",
    "                left_subelem=left_elem[i]\n",
    "            except:\n",
    "                return 'right order'\n",
    "            try: \n",
    "                right_subelem=right_elem[i]\n",
    "            except:\n",
    "                return 'bad order'\n",
    "    \n",
    "            check=comparison(left_elem[i],right_elem[i])\n",
    "            if check=='bad order':\n",
    "                return 'bad order'\n",
    "            elif check=='right order':\n",
    "                return 'right order'\n",
    "            elif check=='tie':\n",
    "                continue\n",
    "            else:\n",
    "                print('error')\n",
    "\n",
    "    elif (isinstance(left_elem, list))&(isinstance(right_elem, int)):\n",
    "        check=comparison(left_elem,[right_elem])\n",
    "    elif (isinstance(left_elem, int))&(isinstance(right_elem, list)):\n",
    "        check=comparison([left_elem],right_elem)\n",
    "    elif (isinstance(left_elem, int))&(isinstance(right_elem, int)):\n",
    "        if left_elem<right_elem:\n",
    "            return 'right order'\n",
    "        elif left_elem>right_elem:\n",
    "            return 'bad order'\n",
    "        else:\n",
    "            return 'tie'\n",
    "    \n",
    "    return check\n",
    "\n",
    "correct_pairs=[]\n",
    "f=open('day13_v1_input.txt','r')\n",
    "content=f.readlines()\n",
    "paired_content=[content[x:x+3] for x in range(0, len(content), 3)]\n",
    "left_check=[]\n",
    "right_check=[]\n",
    "for pair_no,pair in enumerate(paired_content,1):\n",
    "    left=pair[0]\n",
    "    left=ast.literal_eval(left[:-1])\n",
    "    right=pair[1]\n",
    "    right=ast.literal_eval(right[:-1])\n",
    "    try:\n",
    "        response=comparison(left,right)\n",
    "    except:\n",
    "        left_check.append(left)\n",
    "        right_check.append(right)\n",
    "        continue\n",
    "    if response=='right order':\n",
    "        correct_pairs.append(pair_no)\n",
    "        \n",
    "\n",
    "print(sum(correct_pairs))"
   ]
  },
  {
   "attachments": {},
   "cell_type": "markdown",
   "metadata": {},
   "source": [
    "6114 too low<br>\n",
    "6473 too high\n"
   ]
  },
  {
   "cell_type": "code",
   "execution_count": 55,
   "metadata": {},
   "outputs": [
    {
     "name": "stdout",
     "output_type": "stream",
     "text": [
      "[]\n"
     ]
    }
   ],
   "source": [
    "print(left_check)"
   ]
  },
  {
   "cell_type": "code",
   "execution_count": 27,
   "metadata": {},
   "outputs": [],
   "source": [
    "def comparison(left_elem,right_elem):\n",
    "    \n",
    "    if (isinstance(left_elem, list))&(isinstance(right_elem, list)):\n",
    "        for i in range(0,max([len(left_elem),len(right_elem)])):\n",
    "            \n",
    "            try:\n",
    "                left_subelem=left_elem[i]\n",
    "            except:\n",
    "                return 'right order'\n",
    "            try: \n",
    "                right_subelem=right_elem[i]\n",
    "            except:\n",
    "                return 'bad order'\n",
    "    \n",
    "            check=comparison(left_elem[i],right_elem[i])\n",
    "            if check=='bad order':\n",
    "                return 'bad order'\n",
    "            elif check=='right order':\n",
    "                return 'right order'\n",
    "            elif check=='tie':\n",
    "                continue\n",
    "            else:\n",
    "                print('error')\n",
    "\n",
    "    elif (isinstance(left_elem, list))&(isinstance(right_elem, int)):\n",
    "        check=comparison(left_elem,[right_elem])\n",
    "    elif (isinstance(left_elem, int))&(isinstance(right_elem, list)):\n",
    "        check=comparison([left_elem],right_elem)\n",
    "    elif (isinstance(left_elem, int))&(isinstance(right_elem, int)):\n",
    "        if left_elem<right_elem:\n",
    "            return 'right order'\n",
    "        elif left_elem>right_elem:\n",
    "            return 'bad order'\n",
    "        else:\n",
    "            return 'tie'\n",
    "    \n",
    "    return check\n"
   ]
  },
  {
   "cell_type": "code",
   "execution_count": 37,
   "metadata": {},
   "outputs": [
    {
     "data": {
      "text/plain": [
       "'bad order'"
      ]
     },
     "execution_count": 37,
     "metadata": {},
     "output_type": "execute_result"
    }
   ],
   "source": [
    "comparison([1,[2,[3,[4,[5,6,7]]]],8,9] , [1,[2,[3,[4,[5,6,0]]]],8,9])"
   ]
  },
  {
   "cell_type": "code",
   "execution_count": null,
   "metadata": {},
   "outputs": [],
   "source": []
  },
  {
   "cell_type": "code",
   "execution_count": 26,
   "metadata": {},
   "outputs": [
    {
     "name": "stdout",
     "output_type": "stream",
     "text": [
      "not possible\n"
     ]
    }
   ],
   "source": [
    "a=[]\n",
    "try:\n",
    "    a=a[0]\n",
    "except:\n",
    "    print('not possible')\n"
   ]
  }
 ],
 "metadata": {
  "kernelspec": {
   "display_name": "base",
   "language": "python",
   "name": "python3"
  },
  "language_info": {
   "codemirror_mode": {
    "name": "ipython",
    "version": 3
   },
   "file_extension": ".py",
   "mimetype": "text/x-python",
   "name": "python",
   "nbconvert_exporter": "python",
   "pygments_lexer": "ipython3",
   "version": "3.9.7"
  },
  "orig_nbformat": 4,
  "vscode": {
   "interpreter": {
    "hash": "40d3a090f54c6569ab1632332b64b2c03c39dcf918b08424e98f38b5ae0af88f"
   }
  }
 },
 "nbformat": 4,
 "nbformat_minor": 2
}

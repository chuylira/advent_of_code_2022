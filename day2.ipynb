{
 "cells": [
  {
   "cell_type": "code",
   "execution_count": 11,
   "metadata": {},
   "outputs": [],
   "source": [
    "opponent={'A':'rock','B':'paper','C':'scissors'}\n",
    "me={'X':'rock','Y':'paper','Z':'scissors'}\n",
    "score_dict={'rock':1,'paper':2,'scissors':3}"
   ]
  },
  {
   "cell_type": "code",
   "execution_count": 12,
   "metadata": {},
   "outputs": [],
   "source": [
    "f=open('day2_v1_input.txt','r') \n",
    "score=0\n",
    "for i in f:\n",
    "    lista=i.split()\n",
    "    o=opponent[lista[0]]\n",
    "    m=me[lista[1]]\n",
    "    match=set([o,m])\n",
    "    m_score=score_dict[m]\n",
    "    score+=m_score\n",
    "    if m==o:\n",
    "        score+=3\n",
    "    elif set(['rock','paper'])==match:\n",
    "        if m=='paper':\n",
    "            score+=6\n",
    "    elif set(['rock','scissors'])==match:\n",
    "        if m=='rock':\n",
    "            score+=6\n",
    "    elif set(['paper','scissors'])==match:\n",
    "        if m=='scissors':\n",
    "            score+=6"
   ]
  },
  {
   "cell_type": "code",
   "execution_count": 13,
   "metadata": {},
   "outputs": [
    {
     "data": {
      "text/plain": [
       "11449"
      ]
     },
     "execution_count": 13,
     "metadata": {},
     "output_type": "execute_result"
    }
   ],
   "source": [
    "score"
   ]
  },
  {
   "cell_type": "code",
   "execution_count": 35,
   "metadata": {},
   "outputs": [],
   "source": [
    "master_dict={\n",
    "    'rock':{\n",
    "        'lose':'scissors',\n",
    "        'win':'paper',\n",
    "        'draw':'rock'\n",
    "    },\n",
    "    'paper':{\n",
    "        'lose':'rock',\n",
    "        'win':'scissors',\n",
    "        'draw':'paper'\n",
    "    },\n",
    "    'scissors':{\n",
    "        'lose':'paper',\n",
    "        'win':'rock',\n",
    "        'draw':'scissors'\n",
    "    }\n",
    "}\n",
    "me_action={'X':'lose','Y':'draw','Z':'win'}\n",
    "score_by_res={'win':6,'draw':3,'lose':0}"
   ]
  },
  {
   "cell_type": "code",
   "execution_count": 42,
   "metadata": {},
   "outputs": [],
   "source": [
    "f=open('day2_v1_input.txt','r') \n",
    "score_second=0\n",
    "for i in f:\n",
    "    lista=i.split()\n",
    "    o=opponent[lista[0]]\n",
    "    m=me_action[lista[1]]\n",
    "    my_elem=master_dict[o][m]\n",
    "    score_second=score_second+score_by_res[m]+score_dict[my_elem]\n",
    "    "
   ]
  },
  {
   "cell_type": "code",
   "execution_count": 37,
   "metadata": {},
   "outputs": [
    {
     "name": "stdout",
     "output_type": "stream",
     "text": [
      "13187\n"
     ]
    }
   ],
   "source": [
    "print(score_second)"
   ]
  }
 ],
 "metadata": {
  "kernelspec": {
   "display_name": "Python 3.9.10 64-bit",
   "language": "python",
   "name": "python3"
  },
  "language_info": {
   "codemirror_mode": {
    "name": "ipython",
    "version": 3
   },
   "file_extension": ".py",
   "mimetype": "text/x-python",
   "name": "python",
   "nbconvert_exporter": "python",
   "pygments_lexer": "ipython3",
   "version": "3.9.10"
  },
  "orig_nbformat": 4,
  "vscode": {
   "interpreter": {
    "hash": "130005b0ed02d201fe24b160e00ae43723ab4cc46a4ba4169de394093ee98b06"
   }
  }
 },
 "nbformat": 4,
 "nbformat_minor": 2
}

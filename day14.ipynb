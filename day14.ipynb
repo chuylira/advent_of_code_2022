{
 "cells": [
  {
   "cell_type": "code",
   "execution_count": 86,
   "metadata": {},
   "outputs": [],
   "source": [
    "f=open('day14_v1_input.txt','r')\n",
    "mapa={}\n",
    "for i in f:\n",
    "    line=i.strip().split(' -> ')\n",
    "    for j in range(0,len(line)-1):\n",
    "        x1=int(line[j].split(',')[0])\n",
    "        y1=int(line[j].split(',')[1])\n",
    "        x2=int(line[j+1].split(',')[0])\n",
    "        y2=int(line[j+1].split(',')[1])\n",
    "        if x1!=x2:\n",
    "            xs=[x1,x2]\n",
    "            for x in range(min(xs),max(xs)+1):\n",
    "                mapa[(x,y1)]='#'\n",
    "        else:\n",
    "            ys=[y1,y2]\n",
    "            for y in range(min(ys),max(ys)+1):\n",
    "                mapa[(x1,y)]='#'\n",
    "\n"
   ]
  },
  {
   "cell_type": "code",
   "execution_count": 87,
   "metadata": {},
   "outputs": [],
   "source": [
    "all_y=[]\n",
    "for coord in mapa.keys():\n",
    "    all_y.append(coord[1])\n",
    "\n",
    "limit_y=max(all_y)"
   ]
  },
  {
   "cell_type": "code",
   "execution_count": 88,
   "metadata": {},
   "outputs": [],
   "source": [
    "cont=True\n",
    "sand=[]\n",
    "while cont:\n",
    "    x=500\n",
    "    y=0\n",
    "    next=True\n",
    "    while next:\n",
    "        if (x,y+1) in mapa:\n",
    "            if (x-1,y+1) in mapa:\n",
    "                if (x+1,y+1) in mapa:\n",
    "                    mapa[(x,y)]='o'\n",
    "                    sand.append((x,y))\n",
    "                    next=False\n",
    "                else:\n",
    "                    x+=1\n",
    "                    y+=1\n",
    "                    if y==limit_y:\n",
    "                        cont=False\n",
    "                        next=False\n",
    "            else:\n",
    "                x-=1\n",
    "                y+=1\n",
    "                if y==limit_y:\n",
    "                    cont=False\n",
    "                    next=False\n",
    "        else:\n",
    "            y+=1\n",
    "            if y==limit_y:\n",
    "                cont=False\n",
    "                next=False"
   ]
  },
  {
   "cell_type": "code",
   "execution_count": 89,
   "metadata": {},
   "outputs": [
    {
     "data": {
      "text/plain": [
       "618"
      ]
     },
     "execution_count": 89,
     "metadata": {},
     "output_type": "execute_result"
    }
   ],
   "source": [
    "len(sand)"
   ]
  },
  {
   "cell_type": "code",
   "execution_count": 92,
   "metadata": {},
   "outputs": [],
   "source": [
    "f=open('day14_v1_input.txt','r')\n",
    "mapa={}\n",
    "for i in f:\n",
    "    line=i.strip().split(' -> ')\n",
    "    for j in range(0,len(line)-1):\n",
    "        x1=int(line[j].split(',')[0])\n",
    "        y1=int(line[j].split(',')[1])\n",
    "        x2=int(line[j+1].split(',')[0])\n",
    "        y2=int(line[j+1].split(',')[1])\n",
    "        if x1!=x2:\n",
    "            xs=[x1,x2]\n",
    "            for x in range(min(xs),max(xs)+1):\n",
    "                mapa[(x,y1)]='#'\n",
    "        else:\n",
    "            ys=[y1,y2]\n",
    "            for y in range(min(ys),max(ys)+1):\n",
    "                mapa[(x1,y)]='#'"
   ]
  },
  {
   "cell_type": "code",
   "execution_count": 93,
   "metadata": {},
   "outputs": [
    {
     "data": {
      "text/plain": [
       "167"
      ]
     },
     "execution_count": 93,
     "metadata": {},
     "output_type": "execute_result"
    }
   ],
   "source": [
    "all_y=[]\n",
    "for coord in mapa.keys():\n",
    "    all_y.append(coord[1])\n",
    "\n",
    "limit_y=max(all_y)+2\n",
    "limit_y"
   ]
  },
  {
   "cell_type": "code",
   "execution_count": 94,
   "metadata": {},
   "outputs": [],
   "source": [
    "cont=True\n",
    "sand=[]\n",
    "while cont:\n",
    "    x=500\n",
    "    y=0\n",
    "    next=True\n",
    "    while next:\n",
    "        if (y+1)!=limit_y:\n",
    "            if (x,y+1) in mapa:\n",
    "                if (x-1,y+1) in mapa:\n",
    "                    if (x+1,y+1) in mapa:\n",
    "                        if (x,y)==(500,0):\n",
    "                            cont=False\n",
    "                            next=False\n",
    "                        mapa[(x,y)]='o'\n",
    "                        sand.append((x,y))\n",
    "                        next=False\n",
    "                    else:\n",
    "                        x+=1\n",
    "                        y+=1\n",
    "                else:\n",
    "                    x-=1\n",
    "                    y+=1\n",
    "            else:\n",
    "                y+=1\n",
    "        else:\n",
    "            mapa[(x,y)]='o'\n",
    "            sand.append((x,y))\n",
    "            next=False"
   ]
  },
  {
   "cell_type": "code",
   "execution_count": 95,
   "metadata": {},
   "outputs": [
    {
     "data": {
      "text/plain": [
       "26358"
      ]
     },
     "execution_count": 95,
     "metadata": {},
     "output_type": "execute_result"
    }
   ],
   "source": [
    "len(sand)"
   ]
  }
 ],
 "metadata": {
  "kernelspec": {
   "display_name": "base",
   "language": "python",
   "name": "python3"
  },
  "language_info": {
   "codemirror_mode": {
    "name": "ipython",
    "version": 3
   },
   "file_extension": ".py",
   "mimetype": "text/x-python",
   "name": "python",
   "nbconvert_exporter": "python",
   "pygments_lexer": "ipython3",
   "version": "3.9.7"
  },
  "orig_nbformat": 4,
  "vscode": {
   "interpreter": {
    "hash": "40d3a090f54c6569ab1632332b64b2c03c39dcf918b08424e98f38b5ae0af88f"
   }
  }
 },
 "nbformat": 4,
 "nbformat_minor": 2
}

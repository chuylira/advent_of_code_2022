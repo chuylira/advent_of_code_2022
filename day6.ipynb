{
 "cells": [
  {
   "cell_type": "code",
   "execution_count": 9,
   "metadata": {},
   "outputs": [
    {
     "name": "stdout",
     "output_type": "stream",
     "text": [
      "found in 1794\n"
     ]
    }
   ],
   "source": [
    "f=open('day6_v1_input.txt','r')\n",
    "content=list(f.read())\n",
    "for i in range(0,len(content)):\n",
    "    marker=content[i:i+4]\n",
    "    if len(set(marker))==4:\n",
    "        print('found in',i+4)\n",
    "        break"
   ]
  },
  {
   "cell_type": "code",
   "execution_count": 10,
   "metadata": {},
   "outputs": [
    {
     "name": "stdout",
     "output_type": "stream",
     "text": [
      "found in 2851\n"
     ]
    }
   ],
   "source": [
    "f=open('day6_v1_input.txt','r')\n",
    "content=list(f.read())\n",
    "for i in range(0,len(content)):\n",
    "    marker=content[i:i+14]\n",
    "    if len(set(marker))==14:\n",
    "        print('found in',i+14)\n",
    "        break"
   ]
  }
 ],
 "metadata": {
  "kernelspec": {
   "display_name": "Python 3.9.10 64-bit",
   "language": "python",
   "name": "python3"
  },
  "language_info": {
   "codemirror_mode": {
    "name": "ipython",
    "version": 3
   },
   "file_extension": ".py",
   "mimetype": "text/x-python",
   "name": "python",
   "nbconvert_exporter": "python",
   "pygments_lexer": "ipython3",
   "version": "3.9.10"
  },
  "orig_nbformat": 4,
  "vscode": {
   "interpreter": {
    "hash": "130005b0ed02d201fe24b160e00ae43723ab4cc46a4ba4169de394093ee98b06"
   }
  }
 },
 "nbformat": 4,
 "nbformat_minor": 2
}

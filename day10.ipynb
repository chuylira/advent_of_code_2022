{
 "cells": [
  {
   "cell_type": "code",
   "execution_count": 1,
   "metadata": {},
   "outputs": [
    {
     "name": "stdout",
     "output_type": "stream",
     "text": [
      "20 17\n",
      "60 17\n",
      "100 21\n",
      "140 17\n",
      "180 17\n",
      "220 21\n"
     ]
    }
   ],
   "source": [
    "f=open('day10_v1_input.txt','r')\n",
    "\n",
    "x=1\n",
    "cycle=1\n",
    "suma=0\n",
    "check=[20, 60, 100, 140, 180, 220]\n",
    "\n",
    "for i in f:\n",
    "    line=i.split()\n",
    "    if line[0]=='noop':\n",
    "        cycle+=1\n",
    "        if cycle in check:\n",
    "            print(cycle,x)\n",
    "            suma+=cycle*x\n",
    "        continue\n",
    "    else:\n",
    "        cycle+=1\n",
    "        if cycle in check:\n",
    "            print(cycle,x)\n",
    "            suma+=cycle*x\n",
    "        cycle+=1\n",
    "        x+=int(line[1]) \n",
    "        if cycle in check:\n",
    "            print(cycle,x)\n",
    "            suma+=cycle*x\n",
    "         \n",
    "    "
   ]
  },
  {
   "cell_type": "code",
   "execution_count": 2,
   "metadata": {},
   "outputs": [
    {
     "data": {
      "text/plain": [
       "13520"
      ]
     },
     "execution_count": 2,
     "metadata": {},
     "output_type": "execute_result"
    }
   ],
   "source": [
    "suma"
   ]
  },
  {
   "cell_type": "code",
   "execution_count": 3,
   "metadata": {},
   "outputs": [
    {
     "name": "stdout",
     "output_type": "stream",
     "text": [
      "first line completed 40 41\n",
      "first line completed 40 81\n",
      "line completed 40 121\n",
      "first line completed 40 161\n",
      "first line completed 40 201\n",
      "line completed 40 241\n"
     ]
    }
   ],
   "source": [
    "f=open('day10_v1_input.txt','r')\n",
    "x=1\n",
    "cycle=1\n",
    "crt_index=0\n",
    "crt=[]\n",
    "inner=[]\n",
    "\n",
    "for i in f:\n",
    "    line=i.split()\n",
    "\n",
    "    if crt_index in [x-1,x,x+1]:\n",
    "        inner.append('#')\n",
    "    else:\n",
    "        inner.append('.')\n",
    "    \n",
    "    if line[0]=='noop':\n",
    "        cycle+=1\n",
    "        crt_index+=1\n",
    "        if crt_index==40:\n",
    "            print('line completed',crt_index,cycle)\n",
    "            crt.append(inner)\n",
    "            inner=[]\n",
    "            crt_index=0\n",
    "        continue\n",
    "    else:\n",
    "        cycle+=1\n",
    "        crt_index+=1\n",
    "        if crt_index==40:\n",
    "            print('first line completed',crt_index,cycle)\n",
    "            crt.append(inner)\n",
    "            inner=[]\n",
    "            crt_index=0\n",
    "        if crt_index in [x-1,x,x+1]:\n",
    "            inner.append('#')\n",
    "        else:\n",
    "            inner.append('.')\n",
    "        cycle+=1\n",
    "        crt_index+=1\n",
    "        if crt_index==40:\n",
    "            print('first line completed',crt_index,cycle)\n",
    "            crt.append(inner)\n",
    "            inner=[]\n",
    "            crt_index=0\n",
    "        x+=int(line[1]) "
   ]
  },
  {
   "cell_type": "code",
   "execution_count": 4,
   "metadata": {},
   "outputs": [],
   "source": [
    "texto=''\n",
    "for line in crt:\n",
    "    for item in line:\n",
    "        texto=texto+item\n",
    "    texto=texto+'\\n'"
   ]
  },
  {
   "cell_type": "code",
   "execution_count": 5,
   "metadata": {},
   "outputs": [
    {
     "name": "stdout",
     "output_type": "stream",
     "text": [
      "###...##..###..#..#.###..####..##..###..\n",
      "#..#.#..#.#..#.#..#.#..#.#....#..#.#..#.\n",
      "#..#.#....#..#.####.###..###..#..#.###..\n",
      "###..#.##.###..#..#.#..#.#....####.#..#.\n",
      "#....#..#.#....#..#.#..#.#....#..#.#..#.\n",
      "#.....###.#....#..#.###..####.#..#.###..\n",
      "\n"
     ]
    }
   ],
   "source": [
    "print(texto)"
   ]
  }
 ],
 "metadata": {
  "kernelspec": {
   "display_name": "Python 3.9.7 ('base')",
   "language": "python",
   "name": "python3"
  },
  "language_info": {
   "codemirror_mode": {
    "name": "ipython",
    "version": 3
   },
   "file_extension": ".py",
   "mimetype": "text/x-python",
   "name": "python",
   "nbconvert_exporter": "python",
   "pygments_lexer": "ipython3",
   "version": "3.9.7"
  },
  "orig_nbformat": 4,
  "vscode": {
   "interpreter": {
    "hash": "40d3a090f54c6569ab1632332b64b2c03c39dcf918b08424e98f38b5ae0af88f"
   }
  }
 },
 "nbformat": 4,
 "nbformat_minor": 2
}

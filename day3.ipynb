{
 "cells": [
  {
   "cell_type": "code",
   "execution_count": 9,
   "metadata": {},
   "outputs": [],
   "source": [
    "minusculas=map(chr, range(97, 123))\n",
    "mayusculas=map(chr, range(65, 91))\n",
    "p=1\n",
    "priority_dict={}\n",
    "for i in minusculas:\n",
    "    priority_dict[i]=p\n",
    "    p+=1\n",
    "for i in mayusculas:\n",
    "    priority_dict[i]=p\n",
    "    p+=1"
   ]
  },
  {
   "cell_type": "code",
   "execution_count": 29,
   "metadata": {},
   "outputs": [
    {
     "name": "stdout",
     "output_type": "stream",
     "text": [
      "7821\n"
     ]
    }
   ],
   "source": [
    "f=open('day3_v1_input.txt','r')\n",
    "score=0\n",
    "for i in f:\n",
    "    rucksack=list(i)[:-1]\n",
    "    half=int(len(rucksack)/2)\n",
    "    one=rucksack[:half]\n",
    "    two=rucksack[half:]\n",
    "    inter=list(set(one).intersection(two))\n",
    "    score+=priority_dict[inter[0]]\n",
    "print(score)"
   ]
  },
  {
   "cell_type": "code",
   "execution_count": 32,
   "metadata": {},
   "outputs": [
    {
     "name": "stdout",
     "output_type": "stream",
     "text": [
      "2752\n"
     ]
    }
   ],
   "source": [
    "f=open('day3_v1_input.txt','r')\n",
    "score=0\n",
    "group=1\n",
    "d={}\n",
    "for i in f:\n",
    "    d[group]=list(i)[:-1]\n",
    "    if group==3:\n",
    "        inter=list(set(d[1]).intersection(d[2],d[3]))\n",
    "        score+=priority_dict[inter[0]]\n",
    "        group=1\n",
    "        d={}\n",
    "    else:\n",
    "        group+=1\n",
    "print(score)"
   ]
  }
 ],
 "metadata": {
  "kernelspec": {
   "display_name": "Python 3.9.10 64-bit",
   "language": "python",
   "name": "python3"
  },
  "language_info": {
   "codemirror_mode": {
    "name": "ipython",
    "version": 3
   },
   "file_extension": ".py",
   "mimetype": "text/x-python",
   "name": "python",
   "nbconvert_exporter": "python",
   "pygments_lexer": "ipython3",
   "version": "3.9.10"
  },
  "orig_nbformat": 4,
  "vscode": {
   "interpreter": {
    "hash": "130005b0ed02d201fe24b160e00ae43723ab4cc46a4ba4169de394093ee98b06"
   }
  }
 },
 "nbformat": 4,
 "nbformat_minor": 2
}

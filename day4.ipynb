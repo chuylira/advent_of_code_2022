{
 "cells": [
  {
   "cell_type": "code",
   "execution_count": 16,
   "metadata": {},
   "outputs": [
    {
     "name": "stdout",
     "output_type": "stream",
     "text": [
      "571\n"
     ]
    }
   ],
   "source": [
    "f=open('day4_v1_input.txt','r')\n",
    "count=0\n",
    "for i in f:\n",
    "    ranges=i.split(',')\n",
    "    range_one=ranges[0].split('-')\n",
    "    range_two=ranges[1][:-1].split('-')\n",
    "    one=list(range(int(range_one[0]),int(range_one[1])+1))\n",
    "    two=list(range(int(range_two[0]),int(range_two[1])+1))\n",
    "    inter=set(one).intersection(two)\n",
    "    if (len(inter)==len(one))|(len(inter)==len(two)):\n",
    "        count+=1\n",
    "print(count)\n"
   ]
  },
  {
   "cell_type": "code",
   "execution_count": 17,
   "metadata": {},
   "outputs": [
    {
     "name": "stdout",
     "output_type": "stream",
     "text": [
      "917\n"
     ]
    }
   ],
   "source": [
    "f=open('day4_v1_input.txt','r')\n",
    "count=0\n",
    "for i in f:\n",
    "    ranges=i.split(',')\n",
    "    range_one=ranges[0].split('-')\n",
    "    range_two=ranges[1][:-1].split('-')\n",
    "    one=list(range(int(range_one[0]),int(range_one[1])+1))\n",
    "    two=list(range(int(range_two[0]),int(range_two[1])+1))\n",
    "    inter=set(one).intersection(two)\n",
    "    if len(inter)>0:\n",
    "        count+=1\n",
    "print(count)"
   ]
  }
 ],
 "metadata": {
  "kernelspec": {
   "display_name": "Python 3.9.10 64-bit",
   "language": "python",
   "name": "python3"
  },
  "language_info": {
   "codemirror_mode": {
    "name": "ipython",
    "version": 3
   },
   "file_extension": ".py",
   "mimetype": "text/x-python",
   "name": "python",
   "nbconvert_exporter": "python",
   "pygments_lexer": "ipython3",
   "version": "3.9.10"
  },
  "orig_nbformat": 4,
  "vscode": {
   "interpreter": {
    "hash": "130005b0ed02d201fe24b160e00ae43723ab4cc46a4ba4169de394093ee98b06"
   }
  }
 },
 "nbformat": 4,
 "nbformat_minor": 2
}

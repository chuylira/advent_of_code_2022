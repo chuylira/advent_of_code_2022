{
 "cells": [
  {
   "cell_type": "code",
   "execution_count": 68,
   "metadata": {},
   "outputs": [],
   "source": [
    "stacks={\n",
    "    '1':['B','L','D','T','W','C','F','M'],\n",
    "    '2':['N','B','L'],\n",
    "    '3':['J','C','H','T','L','V'],\n",
    "    '4':['S','P','J','W'],\n",
    "    '5':['Z','S','C','F','T','L','R'],\n",
    "    '6':['W','D','G','B','H','N','Z'],\n",
    "    '7':['F','M','S','P','V','G','C','N'],\n",
    "    '8':['W','Q','R','J','F','V','C','Z'],\n",
    "    '9':['R','P','M','L','H']\n",
    "}"
   ]
  },
  {
   "cell_type": "code",
   "execution_count": 60,
   "metadata": {},
   "outputs": [
    {
     "data": {
      "text/plain": [
       "{'1': ['H', 'F', 'B', 'F', 'N', 'W', 'Z', 'N', 'W', 'J', 'B', 'L', 'T'],\n",
       " '2': ['G'],\n",
       " '3': ['H', 'W'],\n",
       " '4': ['V', 'S'],\n",
       " '5': ['Z',\n",
       "  'H',\n",
       "  'T',\n",
       "  'C',\n",
       "  'F',\n",
       "  'V',\n",
       "  'L',\n",
       "  'C',\n",
       "  'C',\n",
       "  'C',\n",
       "  'S',\n",
       "  'M',\n",
       "  'P',\n",
       "  'W',\n",
       "  'G',\n",
       "  'C',\n",
       "  'T',\n",
       "  'D',\n",
       "  'S',\n",
       "  'J',\n",
       "  'M',\n",
       "  'R',\n",
       "  'Z',\n",
       "  'F',\n",
       "  'P',\n",
       "  'M'],\n",
       " '6': ['Q', 'J', 'L', 'L', 'R', 'R'],\n",
       " '7': ['L', 'B'],\n",
       " '8': ['V', 'P'],\n",
       " '9': ['D', 'N']}"
      ]
     },
     "execution_count": 60,
     "metadata": {},
     "output_type": "execute_result"
    }
   ],
   "source": [
    "f=open('day5_v1_input.txt','r')\n",
    "for i in f:\n",
    "    line_list=i.split()\n",
    "    qty=int(line_list[1])\n",
    "    from_stack=line_list[3]\n",
    "    to_stack=line_list[5]\n",
    "    for _ in range(0,qty):\n",
    "        current_stack=stacks[from_stack]\n",
    "        crate=current_stack[-1:]\n",
    "        stacks[from_stack]=current_stack[:-1]\n",
    "        new_stack=stacks[to_stack]\n",
    "        new_stack.append(crate[0])\n",
    "\n",
    "stacks"
   ]
  },
  {
   "cell_type": "code",
   "execution_count": 69,
   "metadata": {},
   "outputs": [
    {
     "data": {
      "text/plain": [
       "{'1': ['V', 'W', 'V', 'J', 'M', 'B', 'S', 'Q', 'G', 'Z', 'W', 'S', 'T'],\n",
       " '2': ['Z'],\n",
       " '3': ['M', 'L'],\n",
       " '4': ['H', 'T'],\n",
       " '5': ['C',\n",
       "  'P',\n",
       "  'L',\n",
       "  'C',\n",
       "  'F',\n",
       "  'V',\n",
       "  'B',\n",
       "  'M',\n",
       "  'D',\n",
       "  'R',\n",
       "  'H',\n",
       "  'N',\n",
       "  'W',\n",
       "  'D',\n",
       "  'N',\n",
       "  'P',\n",
       "  'B',\n",
       "  'G',\n",
       "  'F',\n",
       "  'H',\n",
       "  'Z',\n",
       "  'L',\n",
       "  'L',\n",
       "  'C',\n",
       "  'J',\n",
       "  'L'],\n",
       " '6': ['F', 'P', 'T', 'C', 'C', 'W'],\n",
       " '7': ['S', 'R'],\n",
       " '8': ['R', 'N'],\n",
       " '9': ['J', 'F']}"
      ]
     },
     "execution_count": 69,
     "metadata": {},
     "output_type": "execute_result"
    }
   ],
   "source": [
    "f=open('day5_v1_input.txt','r')\n",
    "for i in f:\n",
    "    line_list=i.split()\n",
    "    qty=int(line_list[1])\n",
    "    from_stack=line_list[3]\n",
    "    to_stack=line_list[5]\n",
    "\n",
    "    current_stack=stacks[from_stack]\n",
    "    crate=current_stack[-qty:]\n",
    "    stacks[from_stack]=current_stack[:-qty]\n",
    "    new_stack=stacks[to_stack]\n",
    "    stacks[to_stack]=new_stack+crate\n",
    "\n",
    "stacks"
   ]
  },
  {
   "cell_type": "code",
   "execution_count": 61,
   "metadata": {},
   "outputs": [
    {
     "name": "stdout",
     "output_type": "stream",
     "text": [
      "-7\n"
     ]
    }
   ],
   "source": []
  }
 ],
 "metadata": {
  "kernelspec": {
   "display_name": "Python 3.9.10 64-bit",
   "language": "python",
   "name": "python3"
  },
  "language_info": {
   "codemirror_mode": {
    "name": "ipython",
    "version": 3
   },
   "file_extension": ".py",
   "mimetype": "text/x-python",
   "name": "python",
   "nbconvert_exporter": "python",
   "pygments_lexer": "ipython3",
   "version": "3.9.10"
  },
  "orig_nbformat": 4,
  "vscode": {
   "interpreter": {
    "hash": "130005b0ed02d201fe24b160e00ae43723ab4cc46a4ba4169de394093ee98b06"
   }
  }
 },
 "nbformat": 4,
 "nbformat_minor": 2
}

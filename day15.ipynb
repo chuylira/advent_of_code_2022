{
 "cells": [
  {
   "cell_type": "code",
   "execution_count": 1,
   "metadata": {},
   "outputs": [],
   "source": [
    "\n",
    "f=open('day15_v1_input.txt','r')\n",
    "def perimeter(s,d):\n",
    "    p_coord=[]\n",
    "    x=s[0]+d\n",
    "    y=s[1]\n",
    "    p_coord.append((x,y))\n",
    "    for _ in range(0,d):\n",
    "        x-=1\n",
    "        y-=1\n",
    "        p_coord.append((x,y))\n",
    "    for _ in range(0,d):\n",
    "        x-=1\n",
    "        y+=1\n",
    "        p_coord.append((x,y))\n",
    "    for _ in range(0,d):\n",
    "        x+=1\n",
    "        y+=1\n",
    "        p_coord.append((x,y))\n",
    "    for _ in range(0,d-1):\n",
    "        x+=1\n",
    "        y-=1\n",
    "        p_coord.append((x,y))\n",
    "    return p_coord\n",
    "\n",
    "sensors={}\n",
    "for i in f:\n",
    "    line=i.split()\n",
    "    sx=int(line[2][2:-1])\n",
    "    sy=int(line[3][2:-1])\n",
    "    bx=int(line[8][2:-1])\n",
    "    by=int(line[9][2:])\n",
    "    distance=abs(sx-bx)+abs(sy-by)\n",
    "    perimetro=perimeter((sx,sy),distance)\n",
    "    sensors[(sx,sy)]={'beacon':(bx,by),'distance':distance,'perimeter':perimetro}"
   ]
  },
  {
   "cell_type": "code",
   "execution_count": 2,
   "metadata": {},
   "outputs": [
    {
     "data": {
      "text/plain": [
       "4560025"
      ]
     },
     "execution_count": 2,
     "metadata": {},
     "output_type": "execute_result"
    }
   ],
   "source": [
    "near_sensors={}\n",
    "for s in sensors.keys():\n",
    "    points=[]\n",
    "    for p in sensors[s]['perimeter']:\n",
    "        if p[1]==2000000:\n",
    "            points.append(p[0])\n",
    "    if points!=[]:\n",
    "        points.sort()\n",
    "        near_sensors[s]=points\n",
    "    \n",
    "in_line=[]\n",
    "for s in near_sensors:\n",
    "    limits=near_sensors[s]\n",
    "    in_line=in_line+list(range(limits[0],limits[1]+1))\n",
    "line_qty=len(set(in_line))\n",
    "\n",
    "beacons_line=[]\n",
    "for s in sensors.keys():\n",
    "    if sensors[s]['beacon'][1]==2000000:\n",
    "        beacons_line.append(sensors[s]['beacon'][0])\n",
    "beacons_line=list(set(beacons_line))\n",
    "\n",
    "for b in beacons_line:\n",
    "    if b in in_line:\n",
    "        line_qty-=1\n",
    "line_qty"
   ]
  },
  {
   "cell_type": "code",
   "execution_count": 27,
   "metadata": {},
   "outputs": [
    {
     "name": "stdout",
     "output_type": "stream",
     "text": [
      "[[-378999, 3120100], [3120102, 4426606]]\n",
      "2634249\n",
      "12480406634249\n"
     ]
    }
   ],
   "source": [
    "f=open('day15_v1_input.txt','r')\n",
    "\n",
    "def perimeter(s,d):\n",
    "    p_coord={}\n",
    "    for i in range(s[1]-d,s[1]+d+1):\n",
    "        a=d-abs(s[1]-i)\n",
    "        p_coord[i]=[s[0]-a,s[0]+a]\n",
    "    return p_coord  \n",
    "\n",
    "def cut(row):\n",
    "    row.sort(key=lambda x: x[0])\n",
    "    index = 0\n",
    "    for i in range(1, len(row)):\n",
    "        if (row[index][1] >= row[i][0]):\n",
    "            row[index][1] = max(row[index][1], row[i][1])\n",
    "        else:\n",
    "            index += 1\n",
    "            row[index] = row[i]\n",
    "    a=[]\n",
    "    for i in range(index+1):\n",
    "        a.append(row[i])\n",
    "    return a\n",
    "\n",
    "sensors={}\n",
    "for i in f:\n",
    "    line=i.split()\n",
    "    sx=int(line[2][2:-1])\n",
    "    sy=int(line[3][2:-1])\n",
    "    bx=int(line[8][2:-1])\n",
    "    by=int(line[9][2:])\n",
    "    distance=abs(sx-bx)+abs(sy-by)\n",
    "    perimetro=perimeter((sx,sy),distance)\n",
    "    sensors[(sx,sy)]={'beacon':(bx,by),'distance':distance,'perimeter':perimetro}\n",
    "\n",
    "ys={}\n",
    "for s in sensors.keys():\n",
    "    for y_line,x_pair in sensors[s]['perimeter'].items():\n",
    "        if (y_line>0)&(y_line<4000000):\n",
    "            ys.setdefault(y_line, []).append(x_pair)\n",
    "\n",
    "for y,row in ys.items():\n",
    "    n=cut(row)\n",
    "    if len(n) > 1:\n",
    "        print(n)\n",
    "        print(y)\n",
    "        print(((n[0][1]+1)*4000000)+y)\n",
    "        break"
   ]
  }
 ],
 "metadata": {
  "kernelspec": {
   "display_name": "base",
   "language": "python",
   "name": "python3"
  },
  "language_info": {
   "codemirror_mode": {
    "name": "ipython",
    "version": 3
   },
   "file_extension": ".py",
   "mimetype": "text/x-python",
   "name": "python",
   "nbconvert_exporter": "python",
   "pygments_lexer": "ipython3",
   "version": "3.9.7"
  },
  "orig_nbformat": 4,
  "vscode": {
   "interpreter": {
    "hash": "40d3a090f54c6569ab1632332b64b2c03c39dcf918b08424e98f38b5ae0af88f"
   }
  }
 },
 "nbformat": 4,
 "nbformat_minor": 2
}

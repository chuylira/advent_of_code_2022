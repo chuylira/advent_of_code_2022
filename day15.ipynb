{
 "cells": [
  {
   "cell_type": "code",
   "execution_count": 69,
   "metadata": {},
   "outputs": [],
   "source": [
    "f=open('day15_v1_input.txt','r')\n",
    "def perimeter(s,d):\n",
    "    p_coord=[]\n",
    "    x=s[0]+d\n",
    "    y=s[1]\n",
    "    p_coord.append((x,y))\n",
    "    for _ in range(0,d):\n",
    "        x-=1\n",
    "        y-=1\n",
    "        p_coord.append((x,y))\n",
    "    for _ in range(0,d):\n",
    "        x-=1\n",
    "        y+=1\n",
    "        p_coord.append((x,y))\n",
    "    for _ in range(0,d):\n",
    "        x+=1\n",
    "        y+=1\n",
    "        p_coord.append((x,y))\n",
    "    for _ in range(0,d-1):\n",
    "        x+=1\n",
    "        y-=1\n",
    "        p_coord.append((x,y))\n",
    "    return p_coord\n",
    "\n",
    "sensors={}\n",
    "for i in f:\n",
    "    line=i.split()\n",
    "    sx=int(line[2][2:-1])\n",
    "    sy=int(line[3][2:-1])\n",
    "    bx=int(line[8][2:-1])\n",
    "    by=int(line[9][2:])\n",
    "    distance=abs(sx-bx)+abs(sy-by)\n",
    "    perimetro=perimeter((sx,sy),distance)\n",
    "    sensors[(sx,sy)]={'beacon':(bx,by),'distance':distance,'perimeter':perimetro}"
   ]
  },
  {
   "cell_type": "code",
   "execution_count": 70,
   "metadata": {},
   "outputs": [
    {
     "data": {
      "text/plain": [
       "4560025"
      ]
     },
     "execution_count": 70,
     "metadata": {},
     "output_type": "execute_result"
    }
   ],
   "source": [
    "near_sensors={}\n",
    "for s in sensors.keys():\n",
    "    points=[]\n",
    "    for p in sensors[s]['perimeter']:\n",
    "        if p[1]==2000000:\n",
    "            points.append(p[0])\n",
    "    if points!=[]:\n",
    "        points.sort()\n",
    "        near_sensors[s]=points\n",
    "    \n",
    "in_line=[]\n",
    "for s in near_sensors:\n",
    "    limits=near_sensors[s]\n",
    "    in_line=in_line+list(range(limits[0],limits[1]+1))\n",
    "line_qty=len(set(in_line))\n",
    "\n",
    "beacons_line=[]\n",
    "for s in sensors.keys():\n",
    "    if sensors[s]['beacon'][1]==2000000:\n",
    "        beacons_line.append(sensors[s]['beacon'][0])\n",
    "beacons_line=list(set(beacons_line))\n",
    "\n",
    "for b in beacons_line:\n",
    "    if b in in_line:\n",
    "        line_qty-=1\n",
    "line_qty"
   ]
  },
  {
   "cell_type": "code",
   "execution_count": 81,
   "metadata": {},
   "outputs": [],
   "source": [
    "f=open('day15_v1_input.txt','r')\n",
    "def perimeter(s,d):\n",
    "    p_coord=[]\n",
    "    x=s[0]+d\n",
    "    y=s[1]\n",
    "    p_coord.append((x,y))\n",
    "    for _ in range(0,d):\n",
    "        x-=1\n",
    "        y-=1\n",
    "        p_coord.append((x,y))\n",
    "    for _ in range(0,d):\n",
    "        x-=1\n",
    "        y+=1\n",
    "        p_coord.append((x,y))\n",
    "    for _ in range(0,d):\n",
    "        x+=1\n",
    "        y+=1\n",
    "        p_coord.append((x,y))\n",
    "    for _ in range(0,d-1):\n",
    "        x+=1\n",
    "        y-=1\n",
    "        p_coord.append((x,y))\n",
    "    return p_coord\n",
    "\n",
    "sensors={}\n",
    "for i in f:\n",
    "    line=i.split()\n",
    "    sx=int(line[2][2:-1])\n",
    "    sy=int(line[3][2:-1])\n",
    "    bx=int(line[8][2:-1])\n",
    "    by=int(line[9][2:])\n",
    "    distance=abs(sx-bx)+abs(sy-by)\n",
    "    perimetro=perimeter((sx,sy),distance)\n",
    "    sensors[(sx,sy)]={'beacon':(bx,by),'distance':distance,'perimeter':perimetro}"
   ]
  },
  {
   "cell_type": "code",
   "execution_count": 82,
   "metadata": {},
   "outputs": [
    {
     "ename": "KeyboardInterrupt",
     "evalue": "",
     "output_type": "error",
     "traceback": [
      "\u001b[0;31m---------------------------------------------------------------------------\u001b[0m",
      "\u001b[0;31mKeyboardInterrupt\u001b[0m                         Traceback (most recent call last)",
      "\u001b[0;32m/var/folders/t_/6q46cjjd17j4jxf238g65wx80000gn/T/ipykernel_32249/4005778966.py\u001b[0m in \u001b[0;36m<module>\u001b[0;34m\u001b[0m\n\u001b[1;32m      5\u001b[0m         \u001b[0mpoints\u001b[0m\u001b[0;34m=\u001b[0m\u001b[0;34m[\u001b[0m\u001b[0;34m]\u001b[0m\u001b[0;34m\u001b[0m\u001b[0;34m\u001b[0m\u001b[0m\n\u001b[1;32m      6\u001b[0m         \u001b[0;32mfor\u001b[0m \u001b[0mp\u001b[0m \u001b[0;32min\u001b[0m \u001b[0msensors\u001b[0m\u001b[0;34m[\u001b[0m\u001b[0ms\u001b[0m\u001b[0;34m]\u001b[0m\u001b[0;34m[\u001b[0m\u001b[0;34m'perimeter'\u001b[0m\u001b[0;34m]\u001b[0m\u001b[0;34m:\u001b[0m\u001b[0;34m\u001b[0m\u001b[0;34m\u001b[0m\u001b[0m\n\u001b[0;32m----> 7\u001b[0;31m             \u001b[0;32mif\u001b[0m \u001b[0mp\u001b[0m\u001b[0;34m[\u001b[0m\u001b[0;36m1\u001b[0m\u001b[0;34m]\u001b[0m\u001b[0;34m==\u001b[0m\u001b[0mi\u001b[0m\u001b[0;34m:\u001b[0m\u001b[0;34m\u001b[0m\u001b[0;34m\u001b[0m\u001b[0m\n\u001b[0m\u001b[1;32m      8\u001b[0m                 \u001b[0mpoints\u001b[0m\u001b[0;34m.\u001b[0m\u001b[0mappend\u001b[0m\u001b[0;34m(\u001b[0m\u001b[0mp\u001b[0m\u001b[0;34m[\u001b[0m\u001b[0;36m0\u001b[0m\u001b[0;34m]\u001b[0m\u001b[0;34m)\u001b[0m\u001b[0;34m\u001b[0m\u001b[0;34m\u001b[0m\u001b[0m\n\u001b[1;32m      9\u001b[0m         \u001b[0;32mif\u001b[0m \u001b[0mpoints\u001b[0m\u001b[0;34m!=\u001b[0m\u001b[0;34m[\u001b[0m\u001b[0;34m]\u001b[0m\u001b[0;34m:\u001b[0m\u001b[0;34m\u001b[0m\u001b[0;34m\u001b[0m\u001b[0m\n",
      "\u001b[0;31mKeyboardInterrupt\u001b[0m: "
     ]
    }
   ],
   "source": [
    "whole_line=list(range(0,4000001))\n",
    "for i in range(0,4000001):\n",
    "    near_sensors={}\n",
    "    for s in sensors.keys():\n",
    "        points=[]\n",
    "        for p in sensors[s]['perimeter']:\n",
    "            if p[1]==i:\n",
    "                points.append(p[0])\n",
    "        if points!=[]:\n",
    "            points.sort()\n",
    "            near_sensors[s]=points\n",
    "        \n",
    "    in_line=[]\n",
    "    for s in near_sensors:\n",
    "        limits=near_sensors[s]\n",
    "        if len(limits)>1:\n",
    "            in_line=in_line+list(range(limits[0],limits[1]+1))\n",
    "        else:\n",
    "            in_line=in_line+limits\n",
    "            \n",
    "    in_line=list(set(in_line))\n",
    "\n",
    "    free=list(set(whole_line)-set(in_line))\n",
    "    if len(free)>0:\n",
    "        print('x:',free,', y:',i)\n",
    "\n"
   ]
  },
  {
   "cell_type": "code",
   "execution_count": 83,
   "metadata": {},
   "outputs": [
    {
     "data": {
      "text/plain": [
       "8"
      ]
     },
     "execution_count": 83,
     "metadata": {},
     "output_type": "execute_result"
    }
   ],
   "source": [
    "i"
   ]
  }
 ],
 "metadata": {
  "kernelspec": {
   "display_name": "base",
   "language": "python",
   "name": "python3"
  },
  "language_info": {
   "codemirror_mode": {
    "name": "ipython",
    "version": 3
   },
   "file_extension": ".py",
   "mimetype": "text/x-python",
   "name": "python",
   "nbconvert_exporter": "python",
   "pygments_lexer": "ipython3",
   "version": "3.9.7"
  },
  "orig_nbformat": 4,
  "vscode": {
   "interpreter": {
    "hash": "40d3a090f54c6569ab1632332b64b2c03c39dcf918b08424e98f38b5ae0af88f"
   }
  }
 },
 "nbformat": 4,
 "nbformat_minor": 2
}

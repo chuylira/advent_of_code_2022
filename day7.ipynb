{
 "cells": [
  {
   "cell_type": "code",
   "execution_count": 123,
   "metadata": {},
   "outputs": [],
   "source": [
    "f=open('input.txt','r')\n",
    "general={}\n",
    "files={}\n",
    "dirs_dict={}\n",
    "file_dict={}\n",
    "first='yes'\n",
    "parent_list=[]\n",
    "key='root'\n",
    "all_dirs=[]\n",
    "id=1\n",
    "\n",
    "for i in f:\n",
    "    line=i.split()\n",
    "    if (line[0]=='$')&(line[1]=='cd'):\n",
    "\n",
    "        if first!='yes':\n",
    "            parent=parent_list[len(parent_list)-1]\n",
    "            grand_parent=parent_list[len(parent_list)-2]\n",
    "            if f'{grand_parent}_{parent}_{key}' in general:\n",
    "                print(f'error: {grand_parent}_{parent}_{key} already exists')\n",
    "            general[f'{grand_parent}_{parent}_{key}']={'dirs':dirs_dict,'files':file_dict}\n",
    "            all_dirs.append(key)\n",
    "        else:\n",
    "            first='no'\n",
    "\n",
    "        if line[2]!='..':\n",
    "            dirs_dict={}\n",
    "            file_dict={}\n",
    "            parent_list.append(key)\n",
    "            grand_parent=key\n",
    "            key=line[2]\n",
    "        else:\n",
    "            first='yes'\n",
    "            key=parent_list[len(parent_list)-1]\n",
    "            parent_list=parent_list[:-1]\n",
    "\n",
    "    elif (line[0]!='$'):\n",
    "        if line[0]=='dir':\n",
    "            dirs_dict[f'{grand_parent}_{key}_{line[1]}']='not calculated'\n",
    "        else:\n",
    "            file_dict[line[1]]=int(line[0])\n",
    "\n",
    "parent=parent_list[len(parent_list)-1]\n",
    "grand_parent=parent_list[len(parent_list)-2]\n",
    "if f'{grand_parent}_{parent}_{key}' in general:\n",
    "    print(f'error: {grand_parent}_{parent}_{key} already exists')\n",
    "general[f'{grand_parent}_{parent}_{key}']={'dirs':dirs_dict,'files':file_dict}\n",
    "all_dirs.append(key)"
   ]
  },
  {
   "cell_type": "code",
   "execution_count": 125,
   "metadata": {},
   "outputs": [],
   "source": [
    "subdir_qty_dict={}\n",
    "for directory in general.keys():\n",
    "    subdirs_qty=len(general[directory]['dirs'])\n",
    "    if subdirs_qty in subdir_qty_dict:\n",
    "        current=subdir_qty_dict[subdirs_qty]\n",
    "        current.append(directory)\n",
    "    else:\n",
    "        subdir_qty_dict[subdirs_qty]=[directory]"
   ]
  },
  {
   "cell_type": "code",
   "execution_count": 126,
   "metadata": {},
   "outputs": [],
   "source": [
    "for key in subdir_qty_dict[0]:\n",
    "    file_sum=sum([v for k,v in general[key]['files'].items()])\n",
    "    contain=[k for k,v in general.items() if key in v['dirs'].keys()]\n",
    "    for contain_key in contain:\n",
    "        general[contain_key]['dirs'][key]=file_sum\n",
    "    "
   ]
  },
  {
   "cell_type": "code",
   "execution_count": 127,
   "metadata": {},
   "outputs": [],
   "source": [
    "import random\n",
    "\n",
    "all_dirs=list(general.keys())\n",
    "all_dirs=list(set(all_dirs)-set(subdir_qty_dict[0]))"
   ]
  },
  {
   "cell_type": "code",
   "execution_count": 128,
   "metadata": {},
   "outputs": [],
   "source": [
    "\n",
    "tried=[]\n",
    "while len(all_dirs)>0:\n",
    "    key=random.choice(all_dirs)\n",
    "    dirs_possible=[k for k,v in general[key]['dirs'].items() if v != 'not calculated']\n",
    "    if len(general[key]['dirs'].items())==len(dirs_possible):\n",
    "        file_sum=sum([v for k,v in general[key]['files'].items()])\n",
    "        dir_sum=sum([v for k,v in general[key]['dirs'].items()])\n",
    "        contain=[k for k,v in general.items() if key in v['dirs'].keys()]\n",
    "        for contain_key in contain:\n",
    "            general[contain_key]['dirs'][key]=file_sum+dir_sum\n",
    "\n",
    "        all_dirs.remove(key)\n",
    "    else:\n",
    "        tried.append(key)\n"
   ]
  },
  {
   "cell_type": "code",
   "execution_count": 132,
   "metadata": {},
   "outputs": [],
   "source": [
    "suma={}\n",
    "for key in general.keys():\n",
    "    file_sum=sum([v for k,v in general[key]['files'].items()])\n",
    "    dir_sum=sum([v for k,v in general[key]['dirs'].items()])\n",
    "    suma[key]=file_sum+dir_sum\n"
   ]
  },
  {
   "cell_type": "code",
   "execution_count": 133,
   "metadata": {},
   "outputs": [
    {
     "data": {
      "text/plain": [
       "1845346"
      ]
     },
     "execution_count": 133,
     "metadata": {},
     "output_type": "execute_result"
    }
   ],
   "source": [
    "sum([v for k,v in suma.items() if v<=100000])"
   ]
  },
  {
   "cell_type": "code",
   "execution_count": 138,
   "metadata": {},
   "outputs": [
    {
     "data": {
      "text/plain": [
       "3636703"
      ]
     },
     "execution_count": 138,
     "metadata": {},
     "output_type": "execute_result"
    }
   ],
   "source": [
    "unused=70000000-suma['root_root_/']\n",
    "needed=30000000-unused\n",
    "min([v for k,v in suma.items() if v>needed])"
   ]
  }
 ],
 "metadata": {
  "kernelspec": {
   "display_name": "Python 3.9.10 64-bit",
   "language": "python",
   "name": "python3"
  },
  "language_info": {
   "codemirror_mode": {
    "name": "ipython",
    "version": 3
   },
   "file_extension": ".py",
   "mimetype": "text/x-python",
   "name": "python",
   "nbconvert_exporter": "python",
   "pygments_lexer": "ipython3",
   "version": "3.9.10"
  },
  "orig_nbformat": 4,
  "vscode": {
   "interpreter": {
    "hash": "130005b0ed02d201fe24b160e00ae43723ab4cc46a4ba4169de394093ee98b06"
   }
  }
 },
 "nbformat": 4,
 "nbformat_minor": 2
}

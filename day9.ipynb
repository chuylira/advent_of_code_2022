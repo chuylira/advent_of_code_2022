{
 "cells": [
  {
   "cell_type": "code",
   "execution_count": 26,
   "metadata": {},
   "outputs": [],
   "source": [
    "import math\n",
    "\n",
    "f=open('input_day9.txt','r')\n",
    "H=(0,0)\n",
    "T=(0,0)\n",
    "\n",
    "def movimiento(H,T):\n",
    "    row_diff=int(math.dist([H[0]],[T[0]]))\n",
    "    col_diff=int(math.dist([H[1]],[T[1]]))\n",
    "    if (row_diff>2)|(col_diff>2):\n",
    "        print('error')\n",
    "    if (row_diff>1)|(col_diff>1):\n",
    "        if (H[0]==T[0])|(H[1]==T[1]):\n",
    "            if H[0]==T[0]:\n",
    "                if H[1]>T[1]:\n",
    "                    T=(T[0],T[1]+1)\n",
    "                else:\n",
    "                    T=(T[0],T[1]-1)\n",
    "            else:\n",
    "                if H[0]>T[0]:\n",
    "                    T=(T[0]+1,T[1])\n",
    "                else:\n",
    "                    T=(T[0]-1,T[1])\n",
    "        else:\n",
    "            if H[1]>T[1]:\n",
    "                T=(T[0],T[1]+1)\n",
    "            else:\n",
    "                T=(T[0],T[1]-1)\n",
    "\n",
    "            if H[0]>T[0]:\n",
    "                T=(T[0]+1,T[1])\n",
    "            else:\n",
    "                T=(T[0]-1,T[1])\n",
    "    return T\n",
    "\n",
    "coords_visited=[]\n",
    "\n",
    "for i in f:\n",
    "    line=i.split()\n",
    "    direction=line[0]\n",
    "    qty=int(line[1])\n",
    "    if direction=='D':\n",
    "        for _ in range(0,qty):\n",
    "            H=(H[0]-1,H[1])\n",
    "            T=movimiento(H,T)\n",
    "            coords_visited.append(T)\n",
    "\n",
    "    elif direction=='U':\n",
    "        for _ in range(0,qty):\n",
    "            H=(H[0]+1,H[1])\n",
    "            T=movimiento(H,T)\n",
    "            coords_visited.append(T)\n",
    "\n",
    "    elif direction=='R':\n",
    "        for _ in range(0,qty):\n",
    "            H=(H[0],H[1]+1)\n",
    "            T=movimiento(H,T)\n",
    "            coords_visited.append(T)\n",
    "\n",
    "    elif direction=='L':\n",
    "        for _ in range(0,qty):\n",
    "            H=(H[0],H[1]-1)\n",
    "            T=movimiento(H,T)\n",
    "            coords_visited.append(T)\n",
    "\n",
    "    else:\n",
    "        print('error')\n",
    "    "
   ]
  },
  {
   "cell_type": "code",
   "execution_count": 27,
   "metadata": {},
   "outputs": [
    {
     "name": "stdout",
     "output_type": "stream",
     "text": [
      "(279, -175) (279, -176)\n"
     ]
    }
   ],
   "source": [
    "print(H,T)"
   ]
  },
  {
   "cell_type": "code",
   "execution_count": 28,
   "metadata": {},
   "outputs": [
    {
     "data": {
      "text/plain": [
       "5878"
      ]
     },
     "execution_count": 28,
     "metadata": {},
     "output_type": "execute_result"
    }
   ],
   "source": [
    "len(set(coords_visited))"
   ]
  },
  {
   "cell_type": "code",
   "execution_count": 29,
   "metadata": {},
   "outputs": [],
   "source": [
    "import math\n",
    "\n",
    "f=open('input_day9.txt','r')\n",
    "H=(0,0)\n",
    "T1=(0,0)\n",
    "T2=(0,0)\n",
    "T3=(0,0)\n",
    "T4=(0,0)\n",
    "T5=(0,0)\n",
    "T6=(0,0)\n",
    "T7=(0,0)\n",
    "T8=(0,0)\n",
    "T9=(0,0)\n",
    "\n",
    "def movimiento(H,T):\n",
    "    row_diff=int(math.dist([H[0]],[T[0]]))\n",
    "    col_diff=int(math.dist([H[1]],[T[1]]))\n",
    "    if (row_diff>2)|(col_diff>2):\n",
    "        print('error')\n",
    "    if (row_diff>1)|(col_diff>1):\n",
    "        if (H[0]==T[0])|(H[1]==T[1]):\n",
    "            if H[0]==T[0]:\n",
    "                if H[1]>T[1]:\n",
    "                    T=(T[0],T[1]+1)\n",
    "                else:\n",
    "                    T=(T[0],T[1]-1)\n",
    "            else:\n",
    "                if H[0]>T[0]:\n",
    "                    T=(T[0]+1,T[1])\n",
    "                else:\n",
    "                    T=(T[0]-1,T[1])\n",
    "        else:\n",
    "            if H[1]>T[1]:\n",
    "                T=(T[0],T[1]+1)\n",
    "            else:\n",
    "                T=(T[0],T[1]-1)\n",
    "\n",
    "            if H[0]>T[0]:\n",
    "                T=(T[0]+1,T[1])\n",
    "            else:\n",
    "                T=(T[0]-1,T[1])\n",
    "    return T\n",
    "\n",
    "coords_visited=[]\n",
    "\n",
    "for i in f:\n",
    "    line=i.split()\n",
    "    direction=line[0]\n",
    "    qty=int(line[1])\n",
    "    if direction=='D':\n",
    "        for _ in range(0,qty):\n",
    "            H=(H[0]-1,H[1])\n",
    "            T1=movimiento(H,T1)\n",
    "            T2=movimiento(T1,T2)\n",
    "            T3=movimiento(T2,T3)\n",
    "            T4=movimiento(T3,T4)\n",
    "            T5=movimiento(T4,T5)\n",
    "            T6=movimiento(T5,T6)\n",
    "            T7=movimiento(T6,T7)\n",
    "            T8=movimiento(T7,T8)\n",
    "            T9=movimiento(T8,T9)\n",
    "            coords_visited.append(T9)\n",
    "\n",
    "    elif direction=='U':\n",
    "        for _ in range(0,qty):\n",
    "            H=(H[0]+1,H[1])\n",
    "            T1=movimiento(H,T1)\n",
    "            T2=movimiento(T1,T2)\n",
    "            T3=movimiento(T2,T3)\n",
    "            T4=movimiento(T3,T4)\n",
    "            T5=movimiento(T4,T5)\n",
    "            T6=movimiento(T5,T6)\n",
    "            T7=movimiento(T6,T7)\n",
    "            T8=movimiento(T7,T8)\n",
    "            T9=movimiento(T8,T9)\n",
    "            coords_visited.append(T9)\n",
    "\n",
    "    elif direction=='R':\n",
    "        for _ in range(0,qty):\n",
    "            H=(H[0],H[1]+1)\n",
    "            T1=movimiento(H,T1)\n",
    "            T2=movimiento(T1,T2)\n",
    "            T3=movimiento(T2,T3)\n",
    "            T4=movimiento(T3,T4)\n",
    "            T5=movimiento(T4,T5)\n",
    "            T6=movimiento(T5,T6)\n",
    "            T7=movimiento(T6,T7)\n",
    "            T8=movimiento(T7,T8)\n",
    "            T9=movimiento(T8,T9)\n",
    "            coords_visited.append(T9)\n",
    "\n",
    "    elif direction=='L':\n",
    "        for _ in range(0,qty):\n",
    "            H=(H[0],H[1]-1)\n",
    "            T1=movimiento(H,T1)\n",
    "            T2=movimiento(T1,T2)\n",
    "            T3=movimiento(T2,T3)\n",
    "            T4=movimiento(T3,T4)\n",
    "            T5=movimiento(T4,T5)\n",
    "            T6=movimiento(T5,T6)\n",
    "            T7=movimiento(T6,T7)\n",
    "            T8=movimiento(T7,T8)\n",
    "            T9=movimiento(T8,T9)\n",
    "            coords_visited.append(T9)\n",
    "\n",
    "    else:\n",
    "        print('error')\n",
    "    "
   ]
  },
  {
   "cell_type": "code",
   "execution_count": 30,
   "metadata": {},
   "outputs": [
    {
     "data": {
      "text/plain": [
       "2405"
      ]
     },
     "execution_count": 30,
     "metadata": {},
     "output_type": "execute_result"
    }
   ],
   "source": [
    "len(set(coords_visited))"
   ]
  }
 ],
 "metadata": {
  "kernelspec": {
   "display_name": "Python 3.9.7 ('base')",
   "language": "python",
   "name": "python3"
  },
  "language_info": {
   "codemirror_mode": {
    "name": "ipython",
    "version": 3
   },
   "file_extension": ".py",
   "mimetype": "text/x-python",
   "name": "python",
   "nbconvert_exporter": "python",
   "pygments_lexer": "ipython3",
   "version": "3.9.7"
  },
  "orig_nbformat": 4,
  "vscode": {
   "interpreter": {
    "hash": "40d3a090f54c6569ab1632332b64b2c03c39dcf918b08424e98f38b5ae0af88f"
   }
  }
 },
 "nbformat": 4,
 "nbformat_minor": 2
}

{
 "cells": [
  {
   "cell_type": "code",
   "execution_count": 6,
   "metadata": {},
   "outputs": [],
   "source": [
    "monkeys={\n",
    "    '0':\n",
    "    {\n",
    "        'items':[57],\n",
    "        'operation':(lambda a:a*13),\n",
    "        'test':(lambda a:a % 11 == 0),\n",
    "        True:'3',\n",
    "        False:'2',\n",
    "        'inspection':0\n",
    "    },\n",
    "    '1':\n",
    "    {\n",
    "        'items':[58, 93, 88, 81, 72, 73, 65],\n",
    "        'operation':(lambda a:a+2),\n",
    "        'test':(lambda a:a % 7 == 0),\n",
    "        True:'6',\n",
    "        False:'7',\n",
    "        'inspection':0\n",
    "    },\n",
    "    '2':\n",
    "    {\n",
    "        'items':[65, 95],\n",
    "        'operation':(lambda a:a+6),\n",
    "        'test':(lambda a:a % 13 == 0),\n",
    "        True:'3',\n",
    "        False:'5',\n",
    "        'inspection':0\n",
    "    },\n",
    "    '3':\n",
    "    {\n",
    "        'items':[58, 80, 81, 83],\n",
    "        'operation':(lambda a:a*a),\n",
    "        'test':(lambda a:a % 5 == 0),\n",
    "        True:'4',\n",
    "        False:'5',\n",
    "        'inspection':0\n",
    "    },\n",
    "    '4':\n",
    "    {\n",
    "        'items':[58, 89, 90, 96, 55],\n",
    "        'operation':(lambda a:a+3),\n",
    "        'test':(lambda a:a % 3 == 0),\n",
    "        True:'1',\n",
    "        False:'7',\n",
    "        'inspection':0\n",
    "    },\n",
    "    '5':\n",
    "    {\n",
    "        'items':[66, 73, 87, 58, 62, 67],\n",
    "        'operation':(lambda a:a*7),\n",
    "        'test':(lambda a:a % 17 == 0),\n",
    "        True:'4',\n",
    "        False:'1',\n",
    "        'inspection':0\n",
    "    },\n",
    "    '6':\n",
    "    {\n",
    "        'items':[85, 55, 89],\n",
    "        'operation':(lambda a:a+4),\n",
    "        'test':(lambda a:a % 2 == 0),\n",
    "        True:'2',\n",
    "        False:'0',\n",
    "        'inspection':0\n",
    "    },\n",
    "    '7':\n",
    "    {\n",
    "        'items':[73, 80, 54, 94, 90, 52, 69, 58],\n",
    "        'operation':(lambda a:a+7),\n",
    "        'test':(lambda a:a % 19 == 0),\n",
    "        True:'6',\n",
    "        False:'0',\n",
    "        'inspection':0\n",
    "    }\n",
    "}\n"
   ]
  },
  {
   "cell_type": "code",
   "execution_count": 7,
   "metadata": {},
   "outputs": [],
   "source": [
    "for _ in range(0,20):\n",
    "    for m in sorted(monkeys.keys()):\n",
    "        for item in monkeys[m]['items']:\n",
    "            monkeys[m]['inspection']+=1\n",
    "            new=monkeys[m]['operation'](item)\n",
    "            new=int(new/3)\n",
    "            check=monkeys[m]['test'](new)\n",
    "            to_monkey=monkeys[m][check]\n",
    "            to_items=monkeys[to_monkey]['items']\n",
    "            to_items.append(new)\n",
    "        monkeys[m]['items']=[]\n"
   ]
  },
  {
   "cell_type": "code",
   "execution_count": 8,
   "metadata": {},
   "outputs": [
    {
     "name": "stdout",
     "output_type": "stream",
     "text": [
      "0 343\n",
      "1 333\n",
      "2 347\n",
      "3 22\n",
      "4 22\n",
      "5 350\n",
      "6 44\n",
      "7 320\n"
     ]
    }
   ],
   "source": [
    "for m in monkeys.keys():\n",
    "    print(m,monkeys[m]['inspection'])"
   ]
  },
  {
   "cell_type": "code",
   "execution_count": 9,
   "metadata": {},
   "outputs": [
    {
     "data": {
      "text/plain": [
       "121450"
      ]
     },
     "execution_count": 9,
     "metadata": {},
     "output_type": "execute_result"
    }
   ],
   "source": [
    "350*347"
   ]
  },
  {
   "cell_type": "code",
   "execution_count": 10,
   "metadata": {},
   "outputs": [],
   "source": [
    "monkeys={\n",
    "    '0':\n",
    "    {\n",
    "        'items':[57],\n",
    "        'operation':(lambda a:a*13),\n",
    "        'test':(lambda a:a % 11 == 0),\n",
    "        True:'3',\n",
    "        False:'2',\n",
    "        'inspection':0\n",
    "    },\n",
    "    '1':\n",
    "    {\n",
    "        'items':[58, 93, 88, 81, 72, 73, 65],\n",
    "        'operation':(lambda a:a+2),\n",
    "        'test':(lambda a:a % 7 == 0),\n",
    "        True:'6',\n",
    "        False:'7',\n",
    "        'inspection':0\n",
    "    },\n",
    "    '2':\n",
    "    {\n",
    "        'items':[65, 95],\n",
    "        'operation':(lambda a:a+6),\n",
    "        'test':(lambda a:a % 13 == 0),\n",
    "        True:'3',\n",
    "        False:'5',\n",
    "        'inspection':0\n",
    "    },\n",
    "    '3':\n",
    "    {\n",
    "        'items':[58, 80, 81, 83],\n",
    "        'operation':(lambda a:a*a),\n",
    "        'test':(lambda a:a % 5 == 0),\n",
    "        True:'4',\n",
    "        False:'5',\n",
    "        'inspection':0\n",
    "    },\n",
    "    '4':\n",
    "    {\n",
    "        'items':[58, 89, 90, 96, 55],\n",
    "        'operation':(lambda a:a+3),\n",
    "        'test':(lambda a:a % 3 == 0),\n",
    "        True:'1',\n",
    "        False:'7',\n",
    "        'inspection':0\n",
    "    },\n",
    "    '5':\n",
    "    {\n",
    "        'items':[66, 73, 87, 58, 62, 67],\n",
    "        'operation':(lambda a:a*7),\n",
    "        'test':(lambda a:a % 17 == 0),\n",
    "        True:'4',\n",
    "        False:'1',\n",
    "        'inspection':0\n",
    "    },\n",
    "    '6':\n",
    "    {\n",
    "        'items':[85, 55, 89],\n",
    "        'operation':(lambda a:a+4),\n",
    "        'test':(lambda a:a % 2 == 0),\n",
    "        True:'2',\n",
    "        False:'0',\n",
    "        'inspection':0\n",
    "    },\n",
    "    '7':\n",
    "    {\n",
    "        'items':[73, 80, 54, 94, 90, 52, 69, 58],\n",
    "        'operation':(lambda a:a+7),\n",
    "        'test':(lambda a:a % 19 == 0),\n",
    "        True:'6',\n",
    "        False:'0',\n",
    "        'inspection':0\n",
    "    }\n",
    "}\n"
   ]
  },
  {
   "cell_type": "code",
   "execution_count": 11,
   "metadata": {},
   "outputs": [],
   "source": [
    "import math\n",
    "value_check=math.lcm(11,7,13,5,3,17,2,19)"
   ]
  },
  {
   "cell_type": "code",
   "execution_count": 12,
   "metadata": {},
   "outputs": [],
   "source": [
    "for _ in range(0,10000):\n",
    "    for m in sorted(monkeys.keys()):\n",
    "        for item in monkeys[m]['items']:\n",
    "            monkeys[m]['inspection']+=1\n",
    "            new=monkeys[m]['operation'](item)\n",
    "            if new>value_check:\n",
    "                new=new%value_check\n",
    "            check=monkeys[m]['test'](new)\n",
    "            to_monkey=monkeys[m][check]\n",
    "            to_items=monkeys[to_monkey]['items']\n",
    "            to_items.append(new)\n",
    "        monkeys[m]['items']=[]"
   ]
  },
  {
   "cell_type": "code",
   "execution_count": 13,
   "metadata": {},
   "outputs": [
    {
     "data": {
      "text/plain": [
       "{'3': 9209,\n",
       " '6': 13590,\n",
       " '4': 18375,\n",
       " '2': 159985,\n",
       " '1': 161105,\n",
       " '0': 165766,\n",
       " '5': 166922,\n",
       " '7': 169205}"
      ]
     },
     "execution_count": 13,
     "metadata": {},
     "output_type": "execute_result"
    }
   ],
   "source": [
    "d={}\n",
    "for m in monkeys.keys():\n",
    "    d[m]=monkeys[m]['inspection']\n",
    "\n",
    "dict(sorted(d.items(),key=lambda item: item[1], reverse=False))"
   ]
  },
  {
   "cell_type": "code",
   "execution_count": 14,
   "metadata": {},
   "outputs": [
    {
     "data": {
      "text/plain": [
       "28244037010"
      ]
     },
     "execution_count": 14,
     "metadata": {},
     "output_type": "execute_result"
    }
   ],
   "source": [
    "166922*169205"
   ]
  }
 ],
 "metadata": {
  "kernelspec": {
   "display_name": "base",
   "language": "python",
   "name": "python3"
  },
  "language_info": {
   "codemirror_mode": {
    "name": "ipython",
    "version": 3
   },
   "file_extension": ".py",
   "mimetype": "text/x-python",
   "name": "python",
   "nbconvert_exporter": "python",
   "pygments_lexer": "ipython3",
   "version": "3.9.7 (default, Sep 16 2021, 08:50:36) \n[Clang 10.0.0 ]"
  },
  "orig_nbformat": 4,
  "vscode": {
   "interpreter": {
    "hash": "40d3a090f54c6569ab1632332b64b2c03c39dcf918b08424e98f38b5ae0af88f"
   }
  }
 },
 "nbformat": 4,
 "nbformat_minor": 2
}
